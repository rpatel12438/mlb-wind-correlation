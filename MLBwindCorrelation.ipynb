{
 "cells": [
  {
   "cell_type": "code",
   "execution_count": 1,
   "id": "cc67e351-aeb6-4fa5-8eb4-b77bcbeaa8e0",
   "metadata": {},
   "outputs": [
    {
     "name": "stdout",
     "output_type": "stream",
     "text": [
      "Notebook is working\n"
     ]
    }
   ],
   "source": [
    "print(\"Notebook is working\")"
   ]
  },
  {
   "cell_type": "markdown",
   "id": "5e4b6253-09fc-4c90-9e8a-0aaad42b8279",
   "metadata": {},
   "source": [
    "## Imports"
   ]
  },
  {
   "cell_type": "code",
   "execution_count": 2,
   "id": "e94fce81-209e-4c25-9ad4-886c7693210c",
   "metadata": {},
   "outputs": [],
   "source": [
    "import requests\n",
    "import matplotlib.pyplot as plt\n",
    "import numpy as np\n",
    "from datetime import datetime, time, timezone, date as dt_date"
   ]
  },
  {
   "cell_type": "markdown",
   "id": "8112405e-32b3-4d95-8fff-69e1953d8521",
   "metadata": {},
   "source": [
    "## Stadium and game information"
   ]
  },
  {
   "cell_type": "code",
   "execution_count": 3,
   "id": "21262398-5884-4617-bb32-9be3b09475e7",
   "metadata": {},
   "outputs": [],
   "source": [
    "mlb_stadiums = {\n",
    "    \"Los Angeles Angels\":       {\"stadium\":\"Angel Stadium\",           \"latitude\":33.8003,   \"longitude\":-117.8827,  \"outfield_direction\":44,\"team_id\":108},\n",
    "    \"Houston Astros\":       {\"stadium\":\"Minute Maid Park\",        \"latitude\":29.7573,   \"longitude\":-95.3557,   \"outfield_direction\":343, \"team_id\":117},\n",
    "    \"Athletics\":    {\"stadium\":\"Sutter Health Park\",      \"latitude\":38.58018,  \"longitude\":-121.51384, \"outfield_direction\":65,  \"team_id\":133},\n",
    "    \"Toronto Blue Jays\":    {\"stadium\":\"Rogers Centre\",           \"latitude\":43.6414,   \"longitude\":-79.3894,   \"outfield_direction\":345, \"team_id\":141},\n",
    "    \"Atlanta Braves\":       {\"stadium\":\"Truist Park\",             \"latitude\":33.8908,   \"longitude\":-84.4678,   \"outfield_direction\":145, \"team_id\":144},\n",
    "    \"Milkwaukee Brewers\":      {\"stadium\":\"American Family Field\",   \"latitude\":43.0286,   \"longitude\":-87.9711,   \"outfield_direction\":129, \"team_id\":158},\n",
    "    \"St. Louis Cardinals\":    {\"stadium\":\"Busch Stadium\",           \"latitude\":38.62278,  \"longitude\":-90.19333,  \"outfield_direction\":62,  \"team_id\":138},\n",
    "    \"Chicago Cubs\":         {\"stadium\":\"Wrigley Field\",           \"latitude\":41.9484,   \"longitude\":-87.6553,   \"outfield_direction\":37,  \"team_id\":112},\n",
    "    \"Arizona Diamondbacks\": {\"stadium\":\"Chase Field\",             \"latitude\":33.4455,   \"longitude\":-112.0668,  \"outfield_direction\":0,   \"team_id\":109},\n",
    "    \"Los Angeles Dodgers\":      {\"stadium\":\"Dodger Stadium\",          \"latitude\":34.0739,   \"longitude\":-118.2400,  \"outfield_direction\":26,  \"team_id\":119},\n",
    "    \"San Francisco Giants\":       {\"stadium\":\"Oracle Park\",             \"latitude\":37.7786,   \"longitude\":-122.3893,  \"outfield_direction\":85,  \"team_id\":137},\n",
    "    \"Cleveland Guardians\":    {\"stadium\":\"Progressive Field\",       \"latitude\":41.4962,   \"longitude\":-81.6853,   \"outfield_direction\":0,   \"team_id\":114},\n",
    "    \"Seattle Mariners\":     {\"stadium\":\"T-Mobile Park\",           \"latitude\":47.5914,   \"longitude\":-122.3325,  \"outfield_direction\":49,  \"team_id\":136},\n",
    "    \"Miami Marlins\":      {\"stadium\":\"loanDepot Park\",          \"latitude\":25.7781,   \"longitude\":-80.2195,   \"outfield_direction\":128, \"team_id\":146},\n",
    "    \"New York Mets\":         {\"stadium\":\"Citi Field\",              \"latitude\":40.7571,   \"longitude\":-73.8458,   \"outfield_direction\":13,  \"team_id\":121},\n",
    "    \"Washington Nationals\":    {\"stadium\":\"Nationals Park\",          \"latitude\":38.8730,   \"longitude\":-77.0074,   \"outfield_direction\":28,  \"team_id\":120},\n",
    "    \"Baltimore Orioles\":      {\"stadium\":\"Oriole Park at Camden Yards\", \"latitude\":39.2839, \"longitude\":-76.6219, \"outfield_direction\":31,  \"team_id\":110},\n",
    "    \"San Diego Padres\":       {\"stadium\":\"Petco Park\",              \"latitude\":32.7076,   \"longitude\":-117.1573,  \"outfield_direction\":0,   \"team_id\":135},\n",
    "    \"Philadelphia Phillies\":     {\"stadium\":\"Citizens Bank Park\",      \"latitude\":39.9057,   \"longitude\":-75.1665,   \"outfield_direction\":9,   \"team_id\":143},\n",
    "    \"Pittsburgh Pirates\":      {\"stadium\":\"PNC Park\",                \"latitude\":40.4469,   \"longitude\":-80.0057,   \"outfield_direction\":116, \"team_id\":134},\n",
    "    \"Texas Rangers\":      {\"stadium\":\"Globe Life Field\",        \"latitude\":32.7473,   \"longitude\":-97.0831,   \"outfield_direction\":30,  \"team_id\":140},\n",
    "    \"Tampa Bay Rays\":         {\"stadium\":\"Tropicana Field\",         \"latitude\":27.7682,   \"longitude\":-82.6534,   \"outfield_direction\":359, \"team_id\":139},\n",
    "    \"Boston Red Sox\":      {\"stadium\":\"Fenway Park\",             \"latitude\":42.3467,   \"longitude\":-71.0972,   \"outfield_direction\":45,  \"team_id\":111},\n",
    "    \"Cincinnati Reds\":         {\"stadium\":\"Great American Ball Park\",\"latitude\":39.0974,   \"longitude\":-84.5060,   \"outfield_direction\":122, \"team_id\":113},\n",
    "    \"Colorado Rockies\":      {\"stadium\":\"Coors Field\",             \"latitude\":39.7561,   \"longitude\":-104.9942,  \"outfield_direction\":4,   \"team_id\":115},\n",
    "    \"Kansas City Royals\":       {\"stadium\":\"Kauffman Stadium\",        \"latitude\":39.0519,   \"longitude\":-94.4803,   \"outfield_direction\":46,  \"team_id\":118},\n",
    "    \"Detroit Tigers\":       {\"stadium\":\"Comerica Park\",           \"latitude\":42.3390,   \"longitude\":-83.0485,   \"outfield_direction\":150, \"team_id\":116},\n",
    "    \"Minnesota Twins\":        {\"stadium\":\"Target Field\",            \"latitude\":44.9817,   \"longitude\":-93.2773,   \"outfield_direction\":44,  \"team_id\":142},\n",
    "    \"Chicago White Sox\":    {\"stadium\":\"Guaranteed Rate Field\",   \"latitude\":41.8309,   \"longitude\":-87.6339,   \"outfield_direction\":127, \"team_id\":145},\n",
    "    \"New York Yankees\":      {\"stadium\":\"Yankee Stadium\",          \"latitude\":40.8296,   \"longitude\":-73.9262,   \"outfield_direction\":75,  \"team_id\":147}\n",
    "}\n"
   ]
  },
  {
   "cell_type": "code",
   "execution_count": 4,
   "id": "68b21717-29b5-434a-9f0b-7919b7f85259",
   "metadata": {},
   "outputs": [],
   "source": [
    "def get_stadium_info(game, mlb_stadiums):\n",
    "    home_team = game[\"teams\"][\"home\"][\"team\"][\"name\"]\n",
    "    return mlb_stadiums.get(home_team, None)\n"
   ]
  },
  {
   "cell_type": "code",
   "execution_count": 5,
   "id": "c9b2702e-6985-43ad-98fa-69e92dc6ec18",
   "metadata": {},
   "outputs": [],
   "source": [
    "def get_home_stadium_info(team_name, stadium_dict, date):\n",
    "    \"\"\"Fetches today's game for the selected team and returns the home team name and stadium info.\"\"\"\n",
    "    team_id = stadium_dict[team_name][\"team_id\"]\n",
    "    schedule_url = f\"https://statsapi.mlb.com/api/v1/schedule?sportId=1&teamId={team_id}&date={date}\"\n",
    "\n",
    "    response = requests.get(schedule_url)\n",
    "    data = response.json()\n",
    "    games = data.get(\"dates\", [])\n",
    "\n",
    "    if not games:\n",
    "        print(f\"No game scheduled today for {team_name}.\")\n",
    "        return None, None\n",
    "\n",
    "    game = games[0][\"games\"][0]\n",
    "    home_team = game[\"teams\"][\"home\"][\"team\"][\"name\"]\n",
    "\n",
    "    if home_team not in stadium_dict:\n",
    "        print(f\"⚠️ No stadium data found for {home_team}. Wind effect analysis will be skipped.\")\n",
    "        return home_team, None\n",
    "\n",
    "    print(f\"{team_name} is playing at {home_team}'s stadium: {stadium_dict[home_team]['stadium']}\")\n",
    "    return home_team, stadium_dict[home_team]\n"
   ]
  },
  {
   "cell_type": "code",
   "execution_count": 6,
   "id": "03de8693-f2cf-4e16-af6b-f9eeb7a206f0",
   "metadata": {},
   "outputs": [
    {
     "name": "stdout",
     "output_type": "stream",
     "text": [
      "Atlanta Braves is playing at Atlanta Braves's stadium: Truist Park\n"
     ]
    }
   ],
   "source": [
    "team_name = \"Atlanta Braves\"  # or any other team\n",
    "date = dt_date.today().isoformat()\n",
    "team_id = mlb_stadiums[team_name][\"team_id\"]\n",
    "\n",
    "home_team, home_stadium = get_home_stadium_info(team_name, mlb_stadiums, date)\n",
    "\n",
    "if home_stadium:\n",
    "    latitude = home_stadium[\"latitude\"]\n",
    "    longitude = home_stadium[\"longitude\"]\n",
    "    stadium_name = home_stadium[\"stadium\"]\n",
    "    outfield_direction_deg = home_stadium[\"outfield_direction\"]\n",
    "else:\n",
    "    latitude = longitude = stadium_name = outfield_direction_deg = None\n"
   ]
  },
  {
   "cell_type": "code",
   "execution_count": 7,
   "id": "76b8e8ff-f5f9-4553-9014-aca5612325e8",
   "metadata": {},
   "outputs": [],
   "source": [
    "mlb_url = f\"https://statsapi.mlb.com/api/v1/schedule?sportId=1&date={date}&teamId={team_id}\"\n",
    "mlb_response = requests.get(mlb_url)\n",
    "mlb_data = mlb_response.json()\n",
    "\n",
    "games = mlb_data.get(\"dates\", [])\n"
   ]
  },
  {
   "cell_type": "code",
   "execution_count": 8,
   "id": "4c8a54aa-a96a-4ac8-9d8d-28a90ad44ac4",
   "metadata": {},
   "outputs": [
    {
     "name": "stdout",
     "output_type": "stream",
     "text": [
      "Stadium: Truist Park\n",
      "Outfield direction: 145°\n",
      "Raw UTC start time: 2025-07-19T23:15:00Z\n",
      "Local game hour: 19\n"
     ]
    }
   ],
   "source": [
    "if games:\n",
    "    game = games[0][\"games\"][0]  # First game today\n",
    "\n",
    "    # Get home team name and stadium info\n",
    "    team_name = game[\"teams\"][\"home\"][\"team\"][\"name\"]\n",
    "    stadium_data = mlb_stadiums.get(team_name)\n",
    "\n",
    "    if stadium_data:\n",
    "        stadium_name = stadium_data[\"stadium\"]\n",
    "        outfield_direction_deg = stadium_data[\"outfield_direction\"]\n",
    "        print(f\"Stadium: {stadium_name}\")\n",
    "        print(f\"Outfield direction: {outfield_direction_deg}°\")\n",
    "    else:\n",
    "        print(f\"⚠️ No stadium data found for {team_name}. Wind effect analysis will be skipped.\")\n",
    "\n",
    "    # Get and convert UTC start time to local hour\n",
    "    utc_start = game[\"gameDate\"]\n",
    "    print(\"Raw UTC start time:\", utc_start)\n",
    "    utc_dt = datetime.strptime(utc_start, \"%Y-%m-%dT%H:%M:%SZ\")\n",
    "    local_hour = (utc_dt.hour - 4) % 24  # Adjust if needed\n",
    "    game_hour = local_hour\n",
    "    print(\"Local game hour:\", game_hour)\n",
    "\n",
    "else:\n",
    "    print(\"No game scheduled today.\")\n",
    "    game_hour = None\n"
   ]
  },
  {
   "cell_type": "code",
   "execution_count": 9,
   "id": "415657b5-abf4-4d4e-a0f6-3f03f347fb73",
   "metadata": {},
   "outputs": [
    {
     "name": "stdout",
     "output_type": "stream",
     "text": [
      "Local start time: 2025-07-19 19:15:00-04:00\n",
      "Start hour only (for filtering): 19\n"
     ]
    }
   ],
   "source": [
    "# Convert UTC time to your local time zone\n",
    "dt_utc = datetime.fromisoformat(utc_start.replace(\"Z\", \"+00:00\"))\n",
    "dt_local = dt_utc.astimezone(tz=None)  # Auto-detects your system's local time\n",
    "game_hour = dt_local.hour\n",
    "\n",
    "print(\"Local start time:\", dt_local)\n",
    "print(\"Start hour only (for filtering):\", game_hour)\n"
   ]
  },
  {
   "cell_type": "code",
   "execution_count": 10,
   "id": "ebf32a01-8ae2-4078-a53e-51a1c4142193",
   "metadata": {},
   "outputs": [],
   "source": [
    "#WEATHER API CALL\n",
    "if latitude is not None and longitude is not None:\n",
    "    weather_url = \"https://api.open-meteo.com/v1/forecast\"\n",
    "    weather_params = {\n",
    "        \"latitude\": latitude,\n",
    "        \"longitude\": longitude,\n",
    "        \"start_date\": date,\n",
    "        \"end_date\": date,\n",
    "        \"hourly\": \"winddirection_10m,windspeed_10m\",\n",
    "        \"timezone\": \"America/New_York\"\n",
    "    }\n",
    "\n",
    "    weather_resp = requests.get(weather_url, params=weather_params)\n",
    "    weather_data = weather_resp.json()\n",
    "else:\n",
    "    print(\"Cannot fetch weather data — location information is missing.\")\n"
   ]
  },
  {
   "cell_type": "code",
   "execution_count": 11,
   "id": "fd7ce00e-5294-450c-9867-5380690ae5f6",
   "metadata": {},
   "outputs": [],
   "source": [
    "def filter_for_game_time(data, start_hour, end_hour):\n",
    "    hourly = data[\"hourly\"]\n",
    "    times = hourly[\"time\"]\n",
    "    directions = hourly[\"winddirection_10m\"]\n",
    "    speeds_kmh = hourly[\"windspeed_10m\"]\n",
    "\n",
    "    filtered = []\n",
    "\n",
    "    for i, t_str in enumerate(times):\n",
    "        dt = datetime.strptime(t_str, \"%Y-%m-%dT%H:%M\")\n",
    "        if start_hour <= dt.hour <= end_hour:\n",
    "            filtered.append({\n",
    "                \"time\": t_str,\n",
    "                \"direction_deg\": directions[i],\n",
    "                \"speed_kmh\": speeds_kmh[i],\n",
    "                \"speed_mph\": round(speeds_kmh[i] * 0.621371, 2)\n",
    "            })\n",
    "\n",
    "    return filtered\n"
   ]
  },
  {
   "cell_type": "code",
   "execution_count": 12,
   "id": "e99cc237-56bd-4d2e-a817-49f2f456578a",
   "metadata": {},
   "outputs": [],
   "source": [
    "def degrees_to_cardinal(degrees):\n",
    "    dirs = ['N', 'NE', 'E', 'SE', 'S', 'SW', 'W', 'NW']\n",
    "    ix = round(degrees / 45) % 8\n",
    "    return dirs[ix]"
   ]
  },
  {
   "cell_type": "code",
   "execution_count": 13,
   "id": "7bc10cff-db3c-42ff-bc46-f1f5b3808198",
   "metadata": {},
   "outputs": [
    {
     "name": "stdout",
     "output_type": "stream",
     "text": [
      "Time: 2025-07-19T19:00, Direction: 263° (W), Speed: 18.1 km/h (11.25 mph), Effect: Cross-wind\n",
      "Time: 2025-07-19T20:00, Direction: 266° (W), Speed: 14.8 km/h (9.2 mph), Effect: Cross-wind\n",
      "Time: 2025-07-19T21:00, Direction: 264° (W), Speed: 10.1 km/h (6.28 mph), Effect: Cross-wind\n",
      "Time: 2025-07-19T22:00, Direction: 305° (NW), Speed: 10.6 km/h (6.59 mph), Effect: Blowing out\n",
      "\n",
      "✅ Wind blowing toward: 83° (used for visualization)\n"
     ]
    }
   ],
   "source": [
    "if game_hour is not None:\n",
    "    filtered_wind = filter_for_game_time(weather_data, start_hour=game_hour, end_hour=game_hour+3)\n",
    "\n",
    "    for entry in filtered_wind:\n",
    "        cardinal = degrees_to_cardinal(entry[\"direction_deg\"])\n",
    "\n",
    "        if outfield_direction_deg is not None:\n",
    "            wind_blowing_toward = (entry[\"direction_deg\"] + 180) % 360\n",
    "            angle_diff = abs(wind_blowing_toward - outfield_direction_deg)\n",
    "            angle_diff = min(angle_diff, 360 - angle_diff)\n",
    "\n",
    "            if angle_diff <= 45:\n",
    "                effect = \"Blowing out\"\n",
    "            elif angle_diff >= 135:\n",
    "                effect = \"Blowing in\"\n",
    "            else:\n",
    "                effect = \"Cross-wind\"\n",
    "\n",
    "            effect_text = f\", Effect: {effect}\"\n",
    "        else:\n",
    "            effect_text = \"\"\n",
    "\n",
    "        print(f\"Time: {entry['time']}, Direction: {entry['direction_deg']}° ({cardinal}), \"\n",
    "              f\"Speed: {entry['speed_kmh']} km/h ({entry['speed_mph']} mph){effect_text}\")\n",
    "\n",
    "    # Store the wind direction\n",
    "    if filtered_wind:\n",
    "        wind_direction_deg = (filtered_wind[0][\"direction_deg\"] + 180) % 360  # now it's \"to\" direction\n",
    "        print(f\"\\n✅ Wind blowing toward: {wind_direction_deg}° (used for visualization)\")\n",
    "    else:\n",
    "        wind_direction_deg = None\n",
    "\n",
    "else:\n",
    "    print(\"There is no game today.\")\n"
   ]
  },
  {
   "cell_type": "code",
   "execution_count": 14,
   "id": "3ddc5c5a-7616-4936-9f9f-b3f14b2622bd",
   "metadata": {},
   "outputs": [
    {
     "data": {
      "image/png": "[encoded data removed]",
      "text/plain": [
       "<Figure size 600x600 with 1 Axes>"
      ]
     },
     "metadata": {},
     "output_type": "display_data"
    }
   ],
   "source": [
    "adjusted_wind_rad = np.deg2rad((wind_direction_deg - 90) % 360)\n",
    "adjusted_outfield_rad = np.deg2rad((outfield_direction_deg - 90) % 360)\n",
    "\n",
    "# Generate vectors\n",
    "wind_vector = [np.cos(adjusted_wind_rad), np.sin(adjusted_wind_rad)]\n",
    "outfield_vector = [np.cos(adjusted_outfield_rad), np.sin(adjusted_outfield_rad)]\n",
    "\n",
    "# Plot\n",
    "plt.figure(figsize=(6, 6))\n",
    "ax = plt.gca()\n",
    "\n",
    "ax.quiver(0, 0, *outfield_vector, angles='xy', scale_units='xy', scale=1, color='green', label='Outfield')\n",
    "ax.quiver(0, 0, *wind_vector, angles='xy', scale_units='xy', scale=1, color='blue', label='Wind')\n",
    "\n",
    "plt.xlim(-1.5, 1.5)\n",
    "plt.ylim(-1.5, 1.5)\n",
    "plt.grid(True)\n",
    "plt.axhline(0, color='gray', lw=0.5)\n",
    "plt.axvline(0, color='gray', lw=0.5)\n",
    "plt.title(\"Wind vs Outfield Direction (Compass-Oriented)\")\n",
    "plt.legend()\n",
    "ax.set_aspect('equal')\n",
    "plt.show()"
   ]
  },
  {
   "cell_type": "code",
   "execution_count": null,
   "id": "158762e0-5f40-4f44-8793-ba1817476bff",
   "metadata": {},
   "outputs": [],
   "source": []
  }
 ],
 "metadata": {
  "kernelspec": {
   "display_name": "Python [conda env:base] *",
   "language": "python",
   "name": "conda-base-py"
  },
  "language_info": {
   "codemirror_mode": {
    "name": "ipython",
    "version": 3
   },
   "file_extension": ".py",
   "mimetype": "text/x-python",
   "name": "python",
   "nbconvert_exporter": "python",
   "pygments_lexer": "ipython3",
   "version": "3.13.5"
  }
 },
 "nbformat": 4,
 "nbformat_minor": 5
}
