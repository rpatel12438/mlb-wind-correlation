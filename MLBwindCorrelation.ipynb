{
 "cells": [
  {
   "cell_type": "code",
   "execution_count": 20,
   "id": "cc67e351-aeb6-4fa5-8eb4-b77bcbeaa8e0",
   "metadata": {},
   "outputs": [
    {
     "name": "stdout",
     "output_type": "stream",
     "text": [
      "Notebook is working\n"
     ]
    }
   ],
   "source": [
    "print(\"Notebook is working\")"
   ]
  },
  {
   "cell_type": "markdown",
   "id": "5e4b6253-09fc-4c90-9e8a-0aaad42b8279",
   "metadata": {},
   "source": [
    "## Imports"
   ]
  },
  {
   "cell_type": "code",
   "execution_count": 21,
   "id": "e94fce81-209e-4c25-9ad4-886c7693210c",
   "metadata": {},
   "outputs": [],
   "source": [
    "import requests\n",
    "from datetime import datetime, time, timezone, date as dt_date"
   ]
  },
  {
   "cell_type": "markdown",
   "id": "8112405e-32b3-4d95-8fff-69e1953d8521",
   "metadata": {},
   "source": [
    "## Stadium and game information"
   ]
  },
  {
   "cell_type": "code",
   "execution_count": 22,
   "id": "0c8a6576-a414-438c-8d7c-1b69470a8f2f",
   "metadata": {},
   "outputs": [],
   "source": [
    "# Braves (Truist Park)\n",
    "stadium_name = \"Truist Park\"\n",
    "latitude = 33.8908\n",
    "longitude = -84.4678\n",
    "team_id = 144\n",
    "date = dt_date.today().isoformat()"
   ]
  },
  {
   "cell_type": "code",
   "execution_count": 23,
   "id": "76b8e8ff-f5f9-4553-9014-aca5612325e8",
   "metadata": {},
   "outputs": [],
   "source": [
    "# 1. Call MLB schedule API for the Braves (team ID 144) for today's date\n",
    "mlb_url = \"https://statsapi.mlb.com/api/v1/schedule\"\n",
    "mlb_params = {\n",
    "    \"sportId\": 1,\n",
    "    \"date\": date,     # today's e variable you've set\n",
    "    \"teamId\": 144     # Braves team ID\n",
    "}\n",
    "mlb_resp = requests.get(mlb_url, params=mlb_params)\n",
    "mlb_data = mlb_resp.json()\n",
    "\n",
    "games = mlb_data.get(\"dates\", [])\n"
   ]
  },
  {
   "cell_type": "code",
   "execution_count": 24,
   "id": "4c8a54aa-a96a-4ac8-9d8d-28a90ad44ac4",
   "metadata": {},
   "outputs": [
    {
     "name": "stdout",
     "output_type": "stream",
     "text": [
      "Raw UTC start time: 2025-07-06T15:35:00Z\n"
     ]
    }
   ],
   "source": [
    "if games:\n",
    "    game = games[0][\"games\"][0]  # First Braves game today\n",
    "    utc_start = game[\"gameDate\"]  # e.g. \"2025-07-01T23:20:00Z\"\n",
    "    print(\"Raw UTC start time:\", utc_start)\n",
    "else:\n",
    "    print(\"No Braves game scheduled today.\")\n"
   ]
  },
  {
   "cell_type": "code",
   "execution_count": 25,
   "id": "415657b5-abf4-4d4e-a0f6-3f03f347fb73",
   "metadata": {},
   "outputs": [
    {
     "name": "stdout",
     "output_type": "stream",
     "text": [
      "Local start time: 2025-07-06 11:35:00-04:00\n",
      "Start hour only (for filtering): 11\n"
     ]
    }
   ],
   "source": [
    "# Convert UTC time to your local time zone\n",
    "dt_utc = datetime.fromisoformat(utc_start.replace(\"Z\", \"+00:00\"))\n",
    "dt_local = dt_utc.astimezone(tz=None)  # Auto-detects your system's local time\n",
    "game_hour = dt_local.hour\n",
    "\n",
    "print(\"Local start time:\", dt_local)\n",
    "print(\"Start hour only (for filtering):\", game_hour)\n"
   ]
  },
  {
   "cell_type": "code",
   "execution_count": 26,
   "id": "ebf32a01-8ae2-4078-a53e-51a1c4142193",
   "metadata": {},
   "outputs": [],
   "source": [
    "# Open-Meteo API\n",
    "weather_url = \"https://api.open-meteo.com/v1/forecast\"\n",
    "weather_params = {\n",
    "    \"latitude\": latitude,\n",
    "    \"longitude\": longitude,\n",
    "    \"start_date\": date,\n",
    "    \"end_date\": date,\n",
    "    \"hourly\": \"winddirection_10m,windspeed_10m\",\n",
    "    \"timezone\": \"America/New_York\"\n",
    "}\n",
    "\n",
    "weather_resp = requests.get(weather_url, params=weather_params)\n",
    "weather_data = weather_resp.json()\n"
   ]
  },
  {
   "cell_type": "code",
   "execution_count": 27,
   "id": "fd7ce00e-5294-450c-9867-5380690ae5f6",
   "metadata": {},
   "outputs": [],
   "source": [
    "def filter_for_game_time(data, start_hour, end_hour):\n",
    "    hourly = data[\"hourly\"]\n",
    "    times = hourly[\"time\"]\n",
    "    directions = hourly[\"winddirection_10m\"]\n",
    "    speeds_kmh = hourly[\"windspeed_10m\"]\n",
    "\n",
    "    filtered = []\n",
    "\n",
    "    for i, t_str in enumerate(times):\n",
    "        dt = datetime.strptime(t_str, \"%Y-%m-%dT%H:%M\")\n",
    "        if start_hour <= dt.hour <= end_hour:\n",
    "            filtered.append({\n",
    "                \"time\": t_str,\n",
    "                \"direction_deg\": directions[i],\n",
    "                \"speed_kmh\": speeds_kmh[i],\n",
    "                \"speed_mph\": round(speeds_kmh[i] * 0.621371, 2)\n",
    "            })\n",
    "\n",
    "    return filtered\n"
   ]
  },
  {
   "cell_type": "code",
   "execution_count": 31,
   "id": "7bc10cff-db3c-42ff-bc46-f1f5b3808198",
   "metadata": {},
   "outputs": [
    {
     "name": "stdout",
     "output_type": "stream",
     "text": [
      "Time: 2025-07-06T11:00, Direction: 124° (SE), Speed: 1.3 km/h (0.81 mph)\n",
      "Time: 2025-07-06T12:00, Direction: 305° (NW), Speed: 7.5 km/h (4.66 mph)\n",
      "Time: 2025-07-06T13:00, Direction: 308° (NW), Speed: 8.7 km/h (5.41 mph)\n",
      "Time: 2025-07-06T14:00, Direction: 319° (NW), Speed: 10.5 km/h (6.52 mph)\n"
     ]
    }
   ],
   "source": [
    "if game_hour is not None:\n",
    "    filtered_wind = filter_for_game_time(weather_data, start_hour=game_hour, end_hour=game_hour+3)\n",
    "\n",
    "    for entry in filtered_wind:\n",
    "        cardinal = degrees_to_cardinal(entry[\"direction_deg\"])\n",
    "        print(f\"Time: {entry['time']}, Direction: {entry['direction_deg']}° ({cardinal}), \"\n",
    "          f\"Speed: {entry['speed_kmh']} km/h ({entry['speed_mph']} mph)\")\n",
    "\n",
    "else:\n",
    "    print(\"No game today — no weather filtering.\")\n"
   ]
  },
  {
   "cell_type": "code",
   "execution_count": 29,
   "id": "e99cc237-56bd-4d2e-a817-49f2f456578a",
   "metadata": {},
   "outputs": [],
   "source": [
    "def degrees_to_cardinal(degrees):\n",
    "    dirs = ['N', 'NE', 'E', 'SE', 'S', 'SW', 'W', 'NW']\n",
    "    ix = round(degrees / 45) % 8\n",
    "    return dirs[ix]"
   ]
  },
  {
   "cell_type": "code",
   "execution_count": null,
   "id": "f9ad5066-b8c2-4d9f-8e1e-fef8035f9843",
   "metadata": {},
   "outputs": [],
   "source": []
  }
 ],
 "metadata": {
  "kernelspec": {
   "display_name": "Python [conda env:base] *",
   "language": "python",
   "name": "conda-base-py"
  },
  "language_info": {
   "codemirror_mode": {
    "name": "ipython",
    "version": 3
   },
   "file_extension": ".py",
   "mimetype": "text/x-python",
   "name": "python",
   "nbconvert_exporter": "python",
   "pygments_lexer": "ipython3",
   "version": "3.13.5"
  }
 },
 "nbformat": 4,
 "nbformat_minor": 5
}
