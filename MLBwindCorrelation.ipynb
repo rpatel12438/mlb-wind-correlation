{
 "cells": [
  {
   "cell_type": "code",
   "execution_count": 2,
   "id": "cc67e351-aeb6-4fa5-8eb4-b77bcbeaa8e0",
   "metadata": {},
   "outputs": [
    {
     "name": "stdout",
     "output_type": "stream",
     "text": [
      "Notebook is working\n"
     ]
    }
   ],
   "source": [
    "print(\"Notebook is working\")"
   ]
  },
  {
   "cell_type": "markdown",
   "id": "5e4b6253-09fc-4c90-9e8a-0aaad42b8279",
   "metadata": {},
   "source": [
    "## Imports"
   ]
  },
  {
   "cell_type": "code",
   "execution_count": 3,
   "id": "e94fce81-209e-4c25-9ad4-886c7693210c",
   "metadata": {},
   "outputs": [],
   "source": [
    "import requests\n",
    "from datetime import datetime, time, timezone, date as dt_date"
   ]
  },
  {
   "cell_type": "markdown",
   "id": "8112405e-32b3-4d95-8fff-69e1953d8521",
   "metadata": {},
   "source": [
    "## Stadium and game information"
   ]
  },
  {
   "cell_type": "code",
   "execution_count": 11,
   "id": "21262398-5884-4617-bb32-9be3b09475e7",
   "metadata": {},
   "outputs": [],
   "source": [
    "mlb_stadiums = {\n",
    "    \"Los Angeles Angels\":       {\"stadium\":\"Angel Stadium\",           \"latitude\":33.8003,   \"longitude\":-117.8827,  \"outfield_direction\":44,\"team_id\":108},\n",
    "    \"Houston Astros\":       {\"stadium\":\"Minute Maid Park\",        \"latitude\":29.7573,   \"longitude\":-95.3557,   \"outfield_direction\":343, \"team_id\":117},\n",
    "    \"Athletics\":    {\"stadium\":\"Sutter Health Park\",      \"latitude\":38.58018,  \"longitude\":-121.51384, \"outfield_direction\":65,  \"team_id\":133},\n",
    "    \"Toronto Blue Jays\":    {\"stadium\":\"Rogers Centre\",           \"latitude\":43.6414,   \"longitude\":-79.3894,   \"outfield_direction\":345, \"team_id\":141},\n",
    "    \"Atlanta Braves\":       {\"stadium\":\"Truist Park\",             \"latitude\":33.8908,   \"longitude\":-84.4678,   \"outfield_direction\":145, \"team_id\":144},\n",
    "    \"Milkwaukee Brewers\":      {\"stadium\":\"American Family Field\",   \"latitude\":43.0286,   \"longitude\":-87.9711,   \"outfield_direction\":129, \"team_id\":158},\n",
    "    \"St. Louis Cardinals\":    {\"stadium\":\"Busch Stadium\",           \"latitude\":38.62278,  \"longitude\":-90.19333,  \"outfield_direction\":62,  \"team_id\":138},\n",
    "    \"Chicago Cubs\":         {\"stadium\":\"Wrigley Field\",           \"latitude\":41.9484,   \"longitude\":-87.6553,   \"outfield_direction\":37,  \"team_id\":112},\n",
    "    \"Arizona Diamondbacks\": {\"stadium\":\"Chase Field\",             \"latitude\":33.4455,   \"longitude\":-112.0668,  \"outfield_direction\":0,   \"team_id\":109},\n",
    "    \"Los Angeles Dodgers\":      {\"stadium\":\"Dodger Stadium\",          \"latitude\":34.0739,   \"longitude\":-118.2400,  \"outfield_direction\":26,  \"team_id\":119},\n",
    "    \"San Francisco Giants\":       {\"stadium\":\"Oracle Park\",             \"latitude\":37.7786,   \"longitude\":-122.3893,  \"outfield_direction\":85,  \"team_id\":137},\n",
    "    \"Cleveland Guardians\":    {\"stadium\":\"Progressive Field\",       \"latitude\":41.4962,   \"longitude\":-81.6853,   \"outfield_direction\":0,   \"team_id\":114},\n",
    "    \"Seattle Mariners\":     {\"stadium\":\"T-Mobile Park\",           \"latitude\":47.5914,   \"longitude\":-122.3325,  \"outfield_direction\":49,  \"team_id\":136},\n",
    "    \"Miami Marlins\":      {\"stadium\":\"loanDepot Park\",          \"latitude\":25.7781,   \"longitude\":-80.2195,   \"outfield_direction\":128, \"team_id\":146},\n",
    "    \"New York Mets\":         {\"stadium\":\"Citi Field\",              \"latitude\":40.7571,   \"longitude\":-73.8458,   \"outfield_direction\":13,  \"team_id\":121},\n",
    "    \"Washington Nationals\":    {\"stadium\":\"Nationals Park\",          \"latitude\":38.8730,   \"longitude\":-77.0074,   \"outfield_direction\":28,  \"team_id\":120},\n",
    "    \"Baltimore Orioles\":      {\"stadium\":\"Oriole Park at Camden Yards\", \"latitude\":39.2839, \"longitude\":-76.6219, \"outfield_direction\":31,  \"team_id\":110},\n",
    "    \"San Diego Padres\":       {\"stadium\":\"Petco Park\",              \"latitude\":32.7076,   \"longitude\":-117.1573,  \"outfield_direction\":0,   \"team_id\":135},\n",
    "    \"Philadelphia Phillies\":     {\"stadium\":\"Citizens Bank Park\",      \"latitude\":39.9057,   \"longitude\":-75.1665,   \"outfield_direction\":9,   \"team_id\":143},\n",
    "    \"Pittsburgh Pirates\":      {\"stadium\":\"PNC Park\",                \"latitude\":40.4469,   \"longitude\":-80.0057,   \"outfield_direction\":116, \"team_id\":134},\n",
    "    \"Texas Rangers\":      {\"stadium\":\"Globe Life Field\",        \"latitude\":32.7473,   \"longitude\":-97.0831,   \"outfield_direction\":30,  \"team_id\":140},\n",
    "    \"Tampa Bay Rays\":         {\"stadium\":\"Tropicana Field\",         \"latitude\":27.7682,   \"longitude\":-82.6534,   \"outfield_direction\":359, \"team_id\":139},\n",
    "    \"Boston Red Sox\":      {\"stadium\":\"Fenway Park\",             \"latitude\":42.3467,   \"longitude\":-71.0972,   \"outfield_direction\":45,  \"team_id\":111},\n",
    "    \"Cincinnati Reds\":         {\"stadium\":\"Great American Ball Park\",\"latitude\":39.0974,   \"longitude\":-84.5060,   \"outfield_direction\":122, \"team_id\":113},\n",
    "    \"Colorado Rockies\":      {\"stadium\":\"Coors Field\",             \"latitude\":39.7561,   \"longitude\":-104.9942,  \"outfield_direction\":4,   \"team_id\":115},\n",
    "    \"Kansas City Royals\":       {\"stadium\":\"Kauffman Stadium\",        \"latitude\":39.0519,   \"longitude\":-94.4803,   \"outfield_direction\":46,  \"team_id\":118},\n",
    "    \"Detroit Tigers\":       {\"stadium\":\"Comerica Park\",           \"latitude\":42.3390,   \"longitude\":-83.0485,   \"outfield_direction\":150, \"team_id\":116},\n",
    "    \"Minnesota Twins\":        {\"stadium\":\"Target Field\",            \"latitude\":44.9817,   \"longitude\":-93.2773,   \"outfield_direction\":44,  \"team_id\":142},\n",
    "    \"Chicago White Sox\":    {\"stadium\":\"Guaranteed Rate Field\",   \"latitude\":41.8309,   \"longitude\":-87.6339,   \"outfield_direction\":127, \"team_id\":145},\n",
    "    \"New York Yankees\":      {\"stadium\":\"Yankee Stadium\",          \"latitude\":40.8296,   \"longitude\":-73.9262,   \"outfield_direction\":75,  \"team_id\":147}\n",
    "}\n"
   ]
  },
  {
   "cell_type": "code",
   "execution_count": 12,
   "id": "68b21717-29b5-434a-9f0b-7919b7f85259",
   "metadata": {},
   "outputs": [],
   "source": [
    "def get_stadium_info(game, mlb_stadiums):\n",
    "    home_team = game[\"teams\"][\"home\"][\"team\"][\"name\"]\n",
    "    return mlb_stadiums.get(home_team, None)\n"
   ]
  },
  {
   "cell_type": "code",
   "execution_count": 18,
   "id": "c9b2702e-6985-43ad-98fa-69e92dc6ec18",
   "metadata": {},
   "outputs": [],
   "source": [
    "def get_home_stadium_info(team_name, stadium_dict, date):\n",
    "    \"\"\"Fetches today's game for the selected team and returns the home team name and stadium info.\"\"\"\n",
    "    team_id = stadium_dict[team_name][\"team_id\"]\n",
    "    schedule_url = f\"https://statsapi.mlb.com/api/v1/schedule?sportId=1&teamId={team_id}&date={date}\"\n",
    "\n",
    "    response = requests.get(schedule_url)\n",
    "    data = response.json()\n",
    "    games = data.get(\"dates\", [])\n",
    "\n",
    "    if not games:\n",
    "        print(f\"No game scheduled today for {team_name}.\")\n",
    "        return None, None\n",
    "\n",
    "    game = games[0][\"games\"][0]\n",
    "    home_team = game[\"teams\"][\"home\"][\"team\"][\"name\"]\n",
    "\n",
    "    if home_team not in stadium_dict:\n",
    "        print(f\"⚠️ No stadium data found for {home_team}. Wind effect analysis will be skipped.\")\n",
    "        return home_team, None\n",
    "\n",
    "    print(f\"{team_name} is playing at {home_team}'s stadium: {stadium_dict[home_team]['stadium']}\")\n",
    "    return home_team, stadium_dict[home_team]\n"
   ]
  },
  {
   "cell_type": "code",
   "execution_count": 20,
   "id": "03de8693-f2cf-4e16-af6b-f9eeb7a206f0",
   "metadata": {},
   "outputs": [
    {
     "name": "stdout",
     "output_type": "stream",
     "text": [
      "Chicago Cubs is playing at Chicago Cubs's stadium: Wrigley Field\n"
     ]
    }
   ],
   "source": [
    "team_name = \"Chicago Cubs\"  # or any other team\n",
    "date = dt_date.today().isoformat()\n",
    "team_id = mlb_stadiums[team_name][\"team_id\"]\n",
    "\n",
    "home_team, home_stadium = get_home_stadium_info(team_name, mlb_stadiums, today)\n",
    "\n",
    "if home_stadium:\n",
    "    latitude = home_stadium[\"latitude\"]\n",
    "    longitude = home_stadium[\"longitude\"]\n",
    "    stadium_name = home_stadium[\"stadium\"]\n",
    "    outfield_direction_deg = home_stadium[\"outfield_direction\"]\n",
    "else:\n",
    "    latitude = longitude = stadium_name = outfield_direction_deg = None\n"
   ]
  },
  {
   "cell_type": "code",
   "execution_count": 28,
   "id": "76b8e8ff-f5f9-4553-9014-aca5612325e8",
   "metadata": {},
   "outputs": [],
   "source": [
    "mlb_url = f\"https://statsapi.mlb.com/api/v1/schedule?sportId=1&date={date}&teamId={team_id}\"\n",
    "mlb_response = requests.get(mlb_url)\n",
    "mlb_data = mlb_response.json()\n",
    "\n",
    "games = mlb_data.get(\"dates\", [])\n"
   ]
  },
  {
   "cell_type": "code",
   "execution_count": 29,
   "id": "4c8a54aa-a96a-4ac8-9d8d-28a90ad44ac4",
   "metadata": {},
   "outputs": [
    {
     "name": "stdout",
     "output_type": "stream",
     "text": [
      "Stadium: Wrigley Field\n",
      "Outfield direction: 37°\n",
      "Raw UTC start time: 2025-07-18T18:20:00Z\n",
      "Local game hour: 14\n"
     ]
    }
   ],
   "source": [
    "if games:\n",
    "    game = games[0][\"games\"][0]  # First game today\n",
    "\n",
    "    # Get home team name and stadium info\n",
    "    team_name = game[\"teams\"][\"home\"][\"team\"][\"name\"]\n",
    "    stadium_data = mlb_stadiums.get(team_name)\n",
    "\n",
    "    if stadium_data:\n",
    "        stadium_name = stadium_data[\"stadium\"]\n",
    "        outfield_direction_deg = stadium_data[\"outfield_direction\"]\n",
    "        print(f\"Stadium: {stadium_name}\")\n",
    "        print(f\"Outfield direction: {outfield_direction_deg}°\")\n",
    "    else:\n",
    "        print(f\"⚠️ No stadium data found for {team_name}. Wind effect analysis will be skipped.\")\n",
    "\n",
    "    # Get and convert UTC start time to local hour\n",
    "    utc_start = game[\"gameDate\"]\n",
    "    print(\"Raw UTC start time:\", utc_start)\n",
    "    utc_dt = datetime.strptime(utc_start, \"%Y-%m-%dT%H:%M:%SZ\")\n",
    "    local_hour = (utc_dt.hour - 4) % 24  # Adjust if needed\n",
    "    game_hour = local_hour\n",
    "    print(\"Local game hour:\", game_hour)\n",
    "\n",
    "else:\n",
    "    print(\"No game scheduled today.\")\n",
    "    game_hour = None\n"
   ]
  },
  {
   "cell_type": "code",
   "execution_count": 30,
   "id": "415657b5-abf4-4d4e-a0f6-3f03f347fb73",
   "metadata": {},
   "outputs": [
    {
     "name": "stdout",
     "output_type": "stream",
     "text": [
      "Local start time: 2025-07-18 14:20:00-04:00\n",
      "Start hour only (for filtering): 14\n"
     ]
    }
   ],
   "source": [
    "# Convert UTC time to your local time zone\n",
    "dt_utc = datetime.fromisoformat(utc_start.replace(\"Z\", \"+00:00\"))\n",
    "dt_local = dt_utc.astimezone(tz=None)  # Auto-detects your system's local time\n",
    "game_hour = dt_local.hour\n",
    "\n",
    "print(\"Local start time:\", dt_local)\n",
    "print(\"Start hour only (for filtering):\", game_hour)\n"
   ]
  },
  {
   "cell_type": "code",
   "execution_count": 31,
   "id": "ebf32a01-8ae2-4078-a53e-51a1c4142193",
   "metadata": {},
   "outputs": [],
   "source": [
    "#WEATHER API CALL\n",
    "if latitude is not None and longitude is not None:\n",
    "    weather_url = \"https://api.open-meteo.com/v1/forecast\"\n",
    "    weather_params = {\n",
    "        \"latitude\": latitude,\n",
    "        \"longitude\": longitude,\n",
    "        \"start_date\": date,\n",
    "        \"end_date\": date,\n",
    "        \"hourly\": \"winddirection_10m,windspeed_10m\",\n",
    "        \"timezone\": \"America/New_York\"\n",
    "    }\n",
    "\n",
    "    weather_resp = requests.get(weather_url, params=weather_params)\n",
    "    weather_data = weather_resp.json()\n",
    "else:\n",
    "    print(\"Cannot fetch weather data — location information is missing.\")\n"
   ]
  },
  {
   "cell_type": "code",
   "execution_count": 32,
   "id": "fd7ce00e-5294-450c-9867-5380690ae5f6",
   "metadata": {},
   "outputs": [],
   "source": [
    "def filter_for_game_time(data, start_hour, end_hour):\n",
    "    hourly = data[\"hourly\"]\n",
    "    times = hourly[\"time\"]\n",
    "    directions = hourly[\"winddirection_10m\"]\n",
    "    speeds_kmh = hourly[\"windspeed_10m\"]\n",
    "\n",
    "    filtered = []\n",
    "\n",
    "    for i, t_str in enumerate(times):\n",
    "        dt = datetime.strptime(t_str, \"%Y-%m-%dT%H:%M\")\n",
    "        if start_hour <= dt.hour <= end_hour:\n",
    "            filtered.append({\n",
    "                \"time\": t_str,\n",
    "                \"direction_deg\": directions[i],\n",
    "                \"speed_kmh\": speeds_kmh[i],\n",
    "                \"speed_mph\": round(speeds_kmh[i] * 0.621371, 2)\n",
    "            })\n",
    "\n",
    "    return filtered\n"
   ]
  },
  {
   "cell_type": "code",
   "execution_count": 33,
   "id": "e99cc237-56bd-4d2e-a817-49f2f456578a",
   "metadata": {},
   "outputs": [],
   "source": [
    "def degrees_to_cardinal(degrees):\n",
    "    dirs = ['N', 'NE', 'E', 'SE', 'S', 'SW', 'W', 'NW']\n",
    "    ix = round(degrees / 45) % 8\n",
    "    return dirs[ix]"
   ]
  },
  {
   "cell_type": "code",
   "execution_count": 34,
   "id": "7bc10cff-db3c-42ff-bc46-f1f5b3808198",
   "metadata": {},
   "outputs": [
    {
     "name": "stdout",
     "output_type": "stream",
     "text": [
      "Time: 2025-07-18T14:00, Direction: 75° (E), Speed: 9.7 km/h (6.03 mph), Effect: Blowing in\n",
      "Time: 2025-07-18T15:00, Direction: 67° (NE), Speed: 13.7 km/h (8.51 mph), Effect: Blowing in\n",
      "Time: 2025-07-18T16:00, Direction: 66° (NE), Speed: 11.4 km/h (7.08 mph), Effect: Blowing in\n",
      "Time: 2025-07-18T17:00, Direction: 61° (NE), Speed: 9.5 km/h (5.9 mph), Effect: Blowing in\n"
     ]
    }
   ],
   "source": [
    "if game_hour is not None:\n",
    "    filtered_wind = filter_for_game_time(weather_data, start_hour=game_hour, end_hour=game_hour+3)\n",
    "\n",
    "    for entry in filtered_wind:\n",
    "        cardinal = degrees_to_cardinal(entry[\"direction_deg\"])\n",
    "\n",
    "        # Only calculate wind effect if outfield direction is known\n",
    "        if outfield_direction_deg is not None:\n",
    "            # Calculate angle difference between wind direction and outfield\n",
    "            wind_blowing_toward = (entry[\"direction_deg\"] + 180) % 360\n",
    "            angle_diff = abs(wind_blowing_toward - outfield_direction_deg)\n",
    "            angle_diff = min(angle_diff, 360 - angle_diff)\n",
    "\n",
    "            if angle_diff <= 45:\n",
    "                effect = \"Blowing out\"\n",
    "            elif angle_diff >= 135:\n",
    "                effect = \"Blowing in\"\n",
    "            else:\n",
    "                effect = \"Cross-wind\"\n",
    "\n",
    "\n",
    "            effect_text = f\", Effect: {effect}\"\n",
    "        else:\n",
    "            effect_text = \"\"\n",
    "\n",
    "        print(f\"Time: {entry['time']}, Direction: {entry['direction_deg']}° ({cardinal}), \"\n",
    "              f\"Speed: {entry['speed_kmh']} km/h ({entry['speed_mph']} mph){effect_text}\")\n",
    "\n",
    "else:\n",
    "    print(\"There is no game today.\")\n"
   ]
  },
  {
   "cell_type": "code",
   "execution_count": null,
   "id": "3ddc5c5a-7616-4936-9f9f-b3f14b2622bd",
   "metadata": {},
   "outputs": [],
   "source": []
  }
 ],
 "metadata": {
  "kernelspec": {
   "display_name": "Python [conda env:base] *",
   "language": "python",
   "name": "conda-base-py"
  },
  "language_info": {
   "codemirror_mode": {
    "name": "ipython",
    "version": 3
   },
   "file_extension": ".py",
   "mimetype": "text/x-python",
   "name": "python",
   "nbconvert_exporter": "python",
   "pygments_lexer": "ipython3",
   "version": "3.13.5"
  }
 },
 "nbformat": 4,
 "nbformat_minor": 5
}
