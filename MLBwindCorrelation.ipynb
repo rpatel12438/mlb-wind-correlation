{
 "cells": [
  {
   "cell_type": "code",
   "execution_count": 3,
   "id": "cc67e351-aeb6-4fa5-8eb4-b77bcbeaa8e0",
   "metadata": {},
   "outputs": [
    {
     "name": "stdout",
     "output_type": "stream",
     "text": [
      "Notebook is working\n"
     ]
    }
   ],
   "source": [
    "print(\"Notebook is working\")"
   ]
  },
  {
   "cell_type": "code",
   "execution_count": 34,
   "id": "a679218b-a3fd-4f0e-a645-b06c8ca800f1",
   "metadata": {},
   "outputs": [],
   "source": [
    "import requests\n",
    "\n",
    "#Weather API endpoint\n",
    "url = \"https://api.open-meteo.com/v1/forecast\"\n",
    "params = {\n",
    "    \"latitude\": latitude,\n",
    "    \"longitude\": longitude,\n",
    "    \"start_date\": date,\n",
    "    \"end_date\": date, \n",
    "    \"hourly\": \"wind_direction_10m,wind_speed_10m\",\n",
    "    \"timezone\": \"America/New_York\"\n",
    "}\n",
    "\n",
    "response = requests.get(url, params = params)\n",
    "data = response.json()"
   ]
  },
  {
   "cell_type": "code",
   "execution_count": 35,
   "id": "54b0b1e3-4262-440b-86d3-e0cfad092caa",
   "metadata": {},
   "outputs": [],
   "source": [
    "#Citizen's Bank Park (Phillies Stadium)\n",
    "latitude = 39.9057\n",
    "longitude = -75.1665\n",
    "\n",
    "date = '2025-06-30'"
   ]
  },
  {
   "cell_type": "code",
   "execution_count": 36,
   "id": "7f37d049-68ef-4b40-b915-17fa5d233bac",
   "metadata": {},
   "outputs": [
    {
     "name": "stdout",
     "output_type": "stream",
     "text": [
      "dict_keys(['latitude', 'longitude', 'generationtime_ms', 'utc_offset_seconds', 'timezone', 'timezone_abbreviation', 'elevation', 'hourly_units', 'hourly'])\n"
     ]
    }
   ],
   "source": [
    "print(data.keys())"
   ]
  },
  {
   "cell_type": "code",
   "execution_count": null,
   "id": "4ed34cfb-f370-4953-918a-9ab4609379ec",
   "metadata": {},
   "outputs": [],
   "source": []
  }
 ],
 "metadata": {
  "kernelspec": {
   "display_name": "Python [conda env:base] *",
   "language": "python",
   "name": "conda-base-py"
  },
  "language_info": {
   "codemirror_mode": {
    "name": "ipython",
    "version": 3
   },
   "file_extension": ".py",
   "mimetype": "text/x-python",
   "name": "python",
   "nbconvert_exporter": "python",
   "pygments_lexer": "ipython3",
   "version": "3.13.5"
  }
 },
 "nbformat": 4,
 "nbformat_minor": 5
}
