{
 "cells": [
  {
   "cell_type": "code",
   "execution_count": 2,
   "id": "cc67e351-aeb6-4fa5-8eb4-b77bcbeaa8e0",
   "metadata": {},
   "outputs": [
    {
     "name": "stdout",
     "output_type": "stream",
     "text": [
      "Notebook is working\n"
     ]
    }
   ],
   "source": [
    "print(\"Notebook is working\")"
   ]
  },
  {
   "cell_type": "markdown",
   "id": "5e4b6253-09fc-4c90-9e8a-0aaad42b8279",
   "metadata": {},
   "source": [
    "## Imports"
   ]
  },
  {
   "cell_type": "code",
   "execution_count": 3,
   "id": "e94fce81-209e-4c25-9ad4-886c7693210c",
   "metadata": {},
   "outputs": [],
   "source": [
    "import requests\n",
    "from datetime import datetime, time, date as dt_date"
   ]
  },
  {
   "cell_type": "markdown",
   "id": "8112405e-32b3-4d95-8fff-69e1953d8521",
   "metadata": {},
   "source": [
    "## Stadium and game information"
   ]
  },
  {
   "cell_type": "code",
   "execution_count": 37,
   "id": "9646bced-4dae-418d-a8b8-b5c8ea102cf5",
   "metadata": {},
   "outputs": [],
   "source": [
    "# Phillies (Citizens Bank Park)\n",
    "stadium_name = \"Citizens Bank Park\"\n",
    "latitude= 39.9057\n",
    "longitude= -75.1665\n",
    "date = dt_date.today().isoformat() #returns YYYY-MM-DD for today"
   ]
  },
  {
   "cell_type": "code",
   "execution_count": 4,
   "id": "0c8a6576-a414-438c-8d7c-1b69470a8f2f",
   "metadata": {},
   "outputs": [],
   "source": [
    "# Braves (Truist Park)\n",
    "stadium_name = \"Truist Park\"\n",
    "latitude = 33.8908\n",
    "longitude = -84.4678\n",
    "team_id = 144\n",
    "date = dt_date.today().isoformat()"
   ]
  },
  {
   "cell_type": "code",
   "execution_count": 32,
   "id": "e02fbc71-5c4f-4f7d-8894-c9bcff26669b",
   "metadata": {},
   "outputs": [],
   "source": [
    "def get_weather_data(lat, lon, date):\n",
    "    weather_url = \"https://api.open-meteo.com/v1/forecast\"\n",
    "    params = {\n",
    "        \"latitude\": lat,\n",
    "        \"longitude\": lon,\n",
    "        \"start_date\": date,\n",
    "        \"end_date\": date,\n",
    "        \"hourly\": \"winddirection_10m,windspeed_10m\",\n",
    "        \"timezone\": \"America/New_York\"\n",
    "    }\n",
    "    response = requests.get(weather_url, params=params)\n",
    "    return response.json()"
   ]
  },
  {
   "cell_type": "code",
   "execution_count": 33,
   "id": "a508d453-a3af-42f8-9815-33dcc6926290",
   "metadata": {},
   "outputs": [
    {
     "name": "stdout",
     "output_type": "stream",
     "text": [
      "dict_keys(['latitude', 'longitude', 'generationtime_ms', 'utc_offset_seconds', 'timezone', 'timezone_abbreviation', 'elevation', 'hourly_units', 'hourly'])\n"
     ]
    }
   ],
   "source": [
    "# Get the weather data for today's date and Citizens Bank Park\n",
    "weather_data = get_weather_data(latitude, longitude, date)\n",
    "\n",
    "# Show the top-level keys of the response\n",
    "print(weather_data.keys())\n"
   ]
  },
  {
   "cell_type": "code",
   "execution_count": 34,
   "id": "7280292e-70f4-4659-a404-40c050eccae3",
   "metadata": {},
   "outputs": [],
   "source": [
    "def filter_for_game_time(weather_data, start_hour=19, end_hour=22):\n",
    "    hourly = weather_data['hourly']\n",
    "    times = hourly['time']\n",
    "    directions = hourly['winddirection_10m']\n",
    "    speeds_kmh = hourly['windspeed_10m']  # Original API values\n",
    "\n",
    "    game_start = time(start_hour, 0)\n",
    "    game_end = time(end_hour, 0)\n",
    "\n",
    "    filtered = []\n",
    "\n",
    "    for i, t_str in enumerate(times):\n",
    "        dt = datetime.strptime(t_str, '%Y-%m-%dT%H:%M')\n",
    "        if game_start <= dt.time() <= game_end:\n",
    "            filtered.append({\n",
    "                \"time\": t_str,\n",
    "                \"direction_deg\": directions[i],\n",
    "                \"speed_kmh\": speeds_kmh[i],\n",
    "                \"speed_mph\": round(speeds_kmh[i] * 0.621371, 2)  # Converted on the fly\n",
    "            })\n",
    "\n",
    "    return filtered\n"
   ]
  },
  {
   "cell_type": "code",
   "execution_count": 35,
   "id": "da6eeb6d-5072-4a39-bb57-cbe32a301fed",
   "metadata": {},
   "outputs": [
    {
     "name": "stdout",
     "output_type": "stream",
     "text": [
      "Time: 2025-07-03T19:00, Direction: 257°, Speed: 19.2 km/h (11.93 mph)\n",
      "Time: 2025-07-03T20:00, Direction: 218°, Speed: 15.1 km/h (9.38 mph)\n",
      "Time: 2025-07-03T21:00, Direction: 349°, Speed: 19.4 km/h (12.05 mph)\n",
      "Time: 2025-07-03T22:00, Direction: 11°, Speed: 7.7 km/h (4.78 mph)\n"
     ]
    }
   ],
   "source": [
    "game_time_data = filter_for_game_time(weather_data)\n",
    "\n",
    "for entry in game_time_data:\n",
    "    print(f\"Time: {entry['time']}, Direction: {entry['direction_deg']}°, \"\n",
    "          f\"Speed: {entry['speed_kmh']} km/h ({entry['speed_mph']} mph)\")\n"
   ]
  },
  {
   "cell_type": "code",
   "execution_count": 5,
   "id": "76b8e8ff-f5f9-4553-9014-aca5612325e8",
   "metadata": {},
   "outputs": [
    {
     "name": "stdout",
     "output_type": "stream",
     "text": [
      "Raw UTC start time: 2025-07-04T23:15:00Z\n"
     ]
    }
   ],
   "source": [
    "# 1. Call MLB schedule API for the Braves (team ID 144) for today's date\n",
    "mlb_url = \"https://statsapi.mlb.com/api/v1/schedule\"\n",
    "mlb_params = {\n",
    "    \"sportId\": 1,\n",
    "    \"date\": date,     # today's e variable you've set\n",
    "    \"teamId\": 144     # Braves team ID\n",
    "}\n",
    "mlb_resp = requests.get(mlb_url, params=mlb_params)\n",
    "mlb_data = mlb_resp.json()\n",
    "\n",
    "games = mlb_data.get(\"dates\", [])\n",
    "\n",
    "if games:\n",
    "    game = games[0][\"games\"][0]  # First Braves game today\n",
    "    utc_start = game[\"gameDate\"]  # e.g. \"2025-07-01T23:20:00Z\"\n",
    "    print(\"Raw UTC start time:\", utc_start)\n",
    "else:\n",
    "    print(\"No Braves game scheduled today.\")\n",
    "\n"
   ]
  },
  {
   "cell_type": "code",
   "execution_count": null,
   "id": "4c8a54aa-a96a-4ac8-9d8d-28a90ad44ac4",
   "metadata": {},
   "outputs": [],
   "source": []
  }
 ],
 "metadata": {
  "kernelspec": {
   "display_name": "Python [conda env:base] *",
   "language": "python",
   "name": "conda-base-py"
  },
  "language_info": {
   "codemirror_mode": {
    "name": "ipython",
    "version": 3
   },
   "file_extension": ".py",
   "mimetype": "text/x-python",
   "name": "python",
   "nbconvert_exporter": "python",
   "pygments_lexer": "ipython3",
   "version": "3.13.5"
  }
 },
 "nbformat": 4,
 "nbformat_minor": 5
}
