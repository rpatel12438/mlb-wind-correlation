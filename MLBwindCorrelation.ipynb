{
 "cells": [
  {
   "cell_type": "code",
   "execution_count": 1,
   "id": "cc67e351-aeb6-4fa5-8eb4-b77bcbeaa8e0",
   "metadata": {},
   "outputs": [
    {
     "name": "stdout",
     "output_type": "stream",
     "text": [
      "Notebook is working\n"
     ]
    }
   ],
   "source": [
    "print(\"Notebook is working\")"
   ]
  },
  {
   "cell_type": "markdown",
   "id": "5e4b6253-09fc-4c90-9e8a-0aaad42b8279",
   "metadata": {},
   "source": [
    "## Imports"
   ]
  },
  {
   "cell_type": "code",
   "execution_count": 2,
   "id": "e94fce81-209e-4c25-9ad4-886c7693210c",
   "metadata": {},
   "outputs": [],
   "source": [
    "import requests\n",
    "from datetime import datetime, time, timezone, date as dt_date"
   ]
  },
  {
   "cell_type": "markdown",
   "id": "8112405e-32b3-4d95-8fff-69e1953d8521",
   "metadata": {},
   "source": [
    "## Stadium and game information"
   ]
  },
  {
   "cell_type": "code",
   "execution_count": 40,
   "id": "0c8a6576-a414-438c-8d7c-1b69470a8f2f",
   "metadata": {},
   "outputs": [],
   "source": [
    "stadiums = {\n",
    "    \"Truist Park\": {\"latitude\": 33.8908, \"longitude\": -84.4678, \"team_id\": 144},\n",
    "    \"Sutter Health Park\": {\"latitude\": 38.58018, \"longitude\": -121.51384, \"team_id\": None},\n",
    "    \"Busch Stadium\": {\"latitude\": 38.62278, \"longitude\": -90.19333, \"team_id\": None}\n",
    "}\n",
    "\n",
    "stadium_name = \"Busch Stadium\"\n",
    "latitude = stadiums[stadium_name][\"latitude\"]\n",
    "longitude = stadiums[stadium_name][\"longitude\"]\n",
    "team_id = stadiums[stadium_name][\"team_id\"]\n",
    "date = dt_date.today().isoformat()\n"
   ]
  },
  {
   "cell_type": "code",
   "execution_count": 3,
   "id": "21262398-5884-4617-bb32-9be3b09475e7",
   "metadata": {},
   "outputs": [],
   "source": [
    "mlb_stadiums = {\n",
    "    \"Braves\": {\n",
    "        \"stadium\": \"Truist Park\",\n",
    "        \"latitude\": 33.8908,\n",
    "        \"longitude\": -84.4678,\n",
    "        \"outfield_direction\": 45,  # NE\n",
    "        \"team_id\": 144\n",
    "    },\n",
    "    \"Athletics\": {\n",
    "        \"stadium\": \"Sutter Health Park\",\n",
    "        \"latitude\": 38.58018,\n",
    "        \"longitude\": -121.51384,\n",
    "        \"outfield_direction\": 65,  # ENE\n",
    "        \"team_id\": 133\n",
    "    },\n",
    "    \"Phillies\": {\n",
    "        \"stadium\": \"Citizens Bank Park\",\n",
    "        \"latitude\": 39.9057,\n",
    "        \"longitude\": -75.1665,\n",
    "        \"outfield_direction\": 25,  # NE\n",
    "        \"team_id\": 143\n",
    "    },\n",
    "    \"Cardinals\": {\n",
    "        \"stadium\": \"Busch Stadium\",\n",
    "        \"latitude\": 38.62278,\n",
    "        \"longitude\": -90.19333,\n",
    "        \"outfield_direction\": 80,  # ENE\n",
    "        \"team_id\": 138\n",
    "    }\n",
    "}\n"
   ]
  },
  {
   "cell_type": "code",
   "execution_count": 4,
   "id": "03de8693-f2cf-4e16-af6b-f9eeb7a206f0",
   "metadata": {},
   "outputs": [],
   "source": [
    "selected_team = \"Athletics\"  # Change this to test other teams\n",
    "\n",
    "team_info = mlb_stadiums[selected_team]\n",
    "stadium_name = team_info[\"stadium\"]\n",
    "latitude = team_info[\"latitude\"]\n",
    "longitude = team_info[\"longitude\"]\n",
    "outfield_direction_deg = team_info[\"outfield_direction\"]\n",
    "team_id = team_info[\"team_id\"]\n",
    "date = dt_date.today().isoformat()\n"
   ]
  },
  {
   "cell_type": "code",
   "execution_count": 6,
   "id": "76b8e8ff-f5f9-4553-9014-aca5612325e8",
   "metadata": {},
   "outputs": [
    {
     "name": "stdout",
     "output_type": "stream",
     "text": [
      "Raw UTC start time: 2025-07-13T02:05:00Z\n",
      "Local game hour: 22\n"
     ]
    }
   ],
   "source": [
    "mlb_url = f\"https://statsapi.mlb.com/api/v1/schedule?sportId=1&date={date}&teamId={team_id}\"\n",
    "mlb_response = requests.get(mlb_url)\n",
    "mlb_data = mlb_response.json()\n",
    "\n",
    "games = mlb_data.get(\"dates\", [])\n",
    "if games:\n",
    "    game = games[0][\"games\"][0]\n",
    "    utc_start = game[\"gameDate\"]\n",
    "    print(\"Raw UTC start time:\", utc_start)\n",
    "\n",
    "    utc_dt = datetime.strptime(utc_start, \"%Y-%m-%dT%H:%M:%SZ\")\n",
    "    local_hour = (utc_dt.hour - 4) % 24  # Adjust if needed\n",
    "    game_hour = local_hour\n",
    "    print(\"Local game hour:\", game_hour)\n",
    "else:\n",
    "    print(\"No game scheduled today.\")\n",
    "    game_hour = None\n"
   ]
  },
  {
   "cell_type": "code",
   "execution_count": 8,
   "id": "d62c330d-8079-4e6b-b129-f5a2a84d64db",
   "metadata": {},
   "outputs": [],
   "source": [
    "# Outfield wind directions by stadium (degrees wind blows \"out\")\n",
    "outfield_directions = {\n",
    "    \"Truist Park\": 45,              # Braves - Outfield faces N\n",
    "    \"Citizens Bank Park\": 25,        # Phillies - Outfield faces N\n",
    "    \"Sutter Health Park\": 65,        # Athletics - Outfield faces NE\n",
    "    \"Busch Stadium\": 80              # Cardinals - Outfield faces E\n",
    "    #add more later\n",
    "}\n"
   ]
  },
  {
   "cell_type": "code",
   "execution_count": 9,
   "id": "4c8a54aa-a96a-4ac8-9d8d-28a90ad44ac4",
   "metadata": {},
   "outputs": [
    {
     "name": "stdout",
     "output_type": "stream",
     "text": [
      "Stadium: Sutter Health Park\n",
      "Raw UTC start time: 2025-07-13T02:05:00Z\n"
     ]
    }
   ],
   "source": [
    "if games:\n",
    "    game = games[0][\"games\"][0]  # First Braves game today\n",
    "    stadium_name = game[\"venue\"][\"name\"]   # Get the stadium name\n",
    "    print(\"Stadium:\", stadium_name)\n",
    "\n",
    "    outfield_direction_deg = outfield_directions.get(stadium_name)\n",
    "\n",
    "    if outfield_direction_deg is None:\n",
    "        print(f\"⚠️ No outfield direction known for {stadium_name}. Wind effect analysis will be skipped.\")\n",
    "\n",
    "\n",
    "    utc_start = game[\"gameDate\"]  # e.g. \"2025-07-01T23:20:00Z\"\n",
    "    print(\"Raw UTC start time:\", utc_start)\n",
    "else:\n",
    "    print(\"No Braves game scheduled today.\")\n"
   ]
  },
  {
   "cell_type": "code",
   "execution_count": 10,
   "id": "415657b5-abf4-4d4e-a0f6-3f03f347fb73",
   "metadata": {},
   "outputs": [
    {
     "name": "stdout",
     "output_type": "stream",
     "text": [
      "Local start time: 2025-07-12 22:05:00-04:00\n",
      "Start hour only (for filtering): 22\n"
     ]
    }
   ],
   "source": [
    "# Convert UTC time to your local time zone\n",
    "dt_utc = datetime.fromisoformat(utc_start.replace(\"Z\", \"+00:00\"))\n",
    "dt_local = dt_utc.astimezone(tz=None)  # Auto-detects your system's local time\n",
    "game_hour = dt_local.hour\n",
    "\n",
    "print(\"Local start time:\", dt_local)\n",
    "print(\"Start hour only (for filtering):\", game_hour)\n"
   ]
  },
  {
   "cell_type": "code",
   "execution_count": 11,
   "id": "ebf32a01-8ae2-4078-a53e-51a1c4142193",
   "metadata": {},
   "outputs": [],
   "source": [
    "# Open-Meteo API\n",
    "weather_url = \"https://api.open-meteo.com/v1/forecast\"\n",
    "weather_params = {\n",
    "    \"latitude\": latitude,\n",
    "    \"longitude\": longitude,\n",
    "    \"start_date\": date,\n",
    "    \"end_date\": date,\n",
    "    \"hourly\": \"winddirection_10m,windspeed_10m\",\n",
    "    \"timezone\": \"America/New_York\"\n",
    "}\n",
    "\n",
    "weather_resp = requests.get(weather_url, params=weather_params)\n",
    "weather_data = weather_resp.json()\n"
   ]
  },
  {
   "cell_type": "code",
   "execution_count": 12,
   "id": "fd7ce00e-5294-450c-9867-5380690ae5f6",
   "metadata": {},
   "outputs": [],
   "source": [
    "def filter_for_game_time(data, start_hour, end_hour):\n",
    "    hourly = data[\"hourly\"]\n",
    "    times = hourly[\"time\"]\n",
    "    directions = hourly[\"winddirection_10m\"]\n",
    "    speeds_kmh = hourly[\"windspeed_10m\"]\n",
    "\n",
    "    filtered = []\n",
    "\n",
    "    for i, t_str in enumerate(times):\n",
    "        dt = datetime.strptime(t_str, \"%Y-%m-%dT%H:%M\")\n",
    "        if start_hour <= dt.hour <= end_hour:\n",
    "            filtered.append({\n",
    "                \"time\": t_str,\n",
    "                \"direction_deg\": directions[i],\n",
    "                \"speed_kmh\": speeds_kmh[i],\n",
    "                \"speed_mph\": round(speeds_kmh[i] * 0.621371, 2)\n",
    "            })\n",
    "\n",
    "    return filtered\n"
   ]
  },
  {
   "cell_type": "code",
   "execution_count": 14,
   "id": "e99cc237-56bd-4d2e-a817-49f2f456578a",
   "metadata": {},
   "outputs": [],
   "source": [
    "def degrees_to_cardinal(degrees):\n",
    "    dirs = ['N', 'NE', 'E', 'SE', 'S', 'SW', 'W', 'NW']\n",
    "    ix = round(degrees / 45) % 8\n",
    "    return dirs[ix]"
   ]
  },
  {
   "cell_type": "code",
   "execution_count": 15,
   "id": "7bc10cff-db3c-42ff-bc46-f1f5b3808198",
   "metadata": {},
   "outputs": [
    {
     "name": "stdout",
     "output_type": "stream",
     "text": [
      "Time: 2025-07-12T22:00, Direction: 231° (SW), Speed: 20.2 km/h (12.55 mph), Effect: Blowing out\n",
      "Time: 2025-07-12T23:00, Direction: 232° (SW), Speed: 18.2 km/h (11.31 mph), Effect: Blowing out\n"
     ]
    }
   ],
   "source": [
    "if game_hour is not None:\n",
    "    filtered_wind = filter_for_game_time(weather_data, start_hour=game_hour, end_hour=game_hour+3)\n",
    "\n",
    "    for entry in filtered_wind:\n",
    "        cardinal = degrees_to_cardinal(entry[\"direction_deg\"])\n",
    "\n",
    "        # Only calculate wind effect if outfield direction is known\n",
    "        if outfield_direction_deg is not None:\n",
    "            # Calculate angle difference between wind direction and outfield\n",
    "            wind_blowing_toward = (entry[\"direction_deg\"] + 180) % 360\n",
    "            angle_diff = abs(wind_blowing_toward - outfield_direction_deg)\n",
    "            angle_diff = min(angle_diff, 360 - angle_diff)\n",
    "\n",
    "            if angle_diff <= 45:\n",
    "                effect = \"Blowing out\"\n",
    "            elif angle_diff >= 135:\n",
    "                effect = \"Blowing in\"\n",
    "            else:\n",
    "                effect = \"Cross-wind\"\n",
    "\n",
    "\n",
    "            effect_text = f\", Effect: {effect}\"\n",
    "        else:\n",
    "            effect_text = \"\"\n",
    "\n",
    "        print(f\"Time: {entry['time']}, Direction: {entry['direction_deg']}° ({cardinal}), \"\n",
    "              f\"Speed: {entry['speed_kmh']} km/h ({entry['speed_mph']} mph){effect_text}\")\n",
    "\n",
    "else:\n",
    "    print(\"No game today — no weather filtering.\")\n"
   ]
  },
  {
   "cell_type": "code",
   "execution_count": null,
   "id": "f9ad5066-b8c2-4d9f-8e1e-fef8035f9843",
   "metadata": {},
   "outputs": [],
   "source": []
  }
 ],
 "metadata": {
  "kernelspec": {
   "display_name": "Python [conda env:base] *",
   "language": "python",
   "name": "conda-base-py"
  },
  "language_info": {
   "codemirror_mode": {
    "name": "ipython",
    "version": 3
   },
   "file_extension": ".py",
   "mimetype": "text/x-python",
   "name": "python",
   "nbconvert_exporter": "python",
   "pygments_lexer": "ipython3",
   "version": "3.13.5"
  }
 },
 "nbformat": 4,
 "nbformat_minor": 5
}
